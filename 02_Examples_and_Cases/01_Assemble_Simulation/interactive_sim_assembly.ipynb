{
 "cells": [
  {
   "cell_type": "markdown",
   "id": "363ad4fd",
   "metadata": {},
   "source": [
    "# OFF \n",
    "## Interactive simulation assembly\n",
    "This function guides your process of creating an OFF simulation.\n",
    "It lets you choose from information stored in OFF/02_Exaples/00_Inputs/01_OFF\n",
    "If you require other wind farm layouts, ambient conditions etc., duplicate a similar .yaml file and modify them as needed. Then they'll show up here for selection.\n",
    "Once you are done with choosing your simulation, generate an OFF input file. This can then be used to start the simulation.\n"
   ]
  },
  {
   "cell_type": "code",
   "execution_count": 1,
   "id": "d70a71c0",
   "metadata": {},
   "outputs": [],
   "source": [
    "from ipywidgets import interact, fixed\n",
    "import yaml\n",
    "import matplotlib.pyplot as plt\n",
    "import os\n",
    "import _isa_plot as isa\n",
    "%matplotlib inline"
   ]
  },
  {
   "cell_type": "markdown",
   "id": "a98eb065",
   "metadata": {},
   "source": [
    "## Step 1: Choose a wind farm\n",
    "The wind farm layout determines where which turbines are located. The selection also defines boundaries of the wind farm. This is mainly for visualization purposes."
   ]
  },
  {
   "cell_type": "code",
   "execution_count": 2,
   "id": "42285c23",
   "metadata": {},
   "outputs": [
    {
     "data": {
      "application/vnd.jupyter.widget-view+json": {
       "model_id": "ab01c21ff8ee4868affdea417dfa9b44",
       "version_major": 2,
       "version_minor": 0
      },
      "text/plain": [
       "interactive(children=(Dropdown(description='yaml_file', options=('nordsea_one_54turbine_Senvion6_2MW.yaml', 't…"
      ]
     },
     "metadata": {},
     "output_type": "display_data"
    }
   ],
   "source": [
    "directory = \"../00_Inputs/00_OFF/01_WindFarm/\"\n",
    "files = os.listdir(directory)\n",
    "files = [f for f in files if os.path.isfile(directory+'/'+f)]\n",
    "\n",
    "wf_widget = interact(isa.plot_wind_farm, path_to_farms=fixed(directory), yaml_file=files)"
   ]
  },
  {
   "cell_type": "markdown",
   "id": "62a1cda9",
   "metadata": {},
   "source": [
    "### Step 1.2 Save wind farm"
   ]
  },
  {
   "cell_type": "code",
   "execution_count": 4,
   "id": "b76eb0c4",
   "metadata": {},
   "outputs": [],
   "source": []
  },
  {
   "cell_type": "markdown",
   "id": "6045c768",
   "metadata": {},
   "source": [
    "## Step 2: Choose ambient conditions\n",
    "Ambient conditions determine how the background flow field behaves during the simulation. The simplest case is a constant wind speed and direction. But these can also be defined to be time varying, globally and locally."
   ]
  },
  {
   "cell_type": "code",
   "execution_count": 5,
   "id": "8b5bee15",
   "metadata": {},
   "outputs": [
    {
     "data": {
      "application/vnd.jupyter.widget-view+json": {
       "model_id": "012642f00d2049348a04931fbd2418a9",
       "version_major": 2,
       "version_minor": 0
      },
      "text/plain": [
       "interactive(children=(Dropdown(description='yaml_file', options=('const_8_2ms_shift_255deg_195deg.yaml', 'cons…"
      ]
     },
     "metadata": {},
     "output_type": "display_data"
    }
   ],
   "source": [
    "wind_farm_dict = wf_widget.widget.result\n",
    "directory = \"../00_Inputs/00_OFF/02_Ambient/\"\n",
    "files = os.listdir(directory)\n",
    "files = [f for f in files if os.path.isfile(directory+'/'+f)]\n",
    "\n",
    "amb_widget = interact(isa.plot_ambient, path_to_amb=fixed(directory), wind_farm=fixed(wind_farm_dict), yaml_file=files)"
   ]
  },
  {
   "cell_type": "markdown",
   "id": "eaa429df",
   "metadata": {},
   "source": [
    "## Step 3: Choose a wake solver\n",
    "Here you determine how you want your simulation to be executed. The wake solver handles the dynamics of the simulation: how the OPs propagate, how the wind field interacts with then etc. The wake solver is also tied to the wake model(s) it can use. The wake model is the component which returns the velocity deficit, based on the ambient conditions and the turbine states."
   ]
  },
  {
   "cell_type": "code",
   "execution_count": null,
   "id": "5e8261df",
   "metadata": {},
   "outputs": [],
   "source": [
    "ambient_dict = amb_widget.widget.result\n",
    "directory = \"../00_Inputs/00_OFF/04_Solver/\"\n",
    "files = os.listdir(directory)\n",
    "files = [f for f in files if os.path.isfile(directory+'/'+f)]\n",
    "\n",
    "# TODO Write widget for solver"
   ]
  },
  {
   "cell_type": "markdown",
   "id": "81378708",
   "metadata": {},
   "source": [
    "## Step 4: Choose your simulation conditions\n",
    "This determines how long your simulation runs, where results are stored and what kind of logging is activated"
   ]
  },
  {
   "cell_type": "code",
   "execution_count": null,
   "id": "abfaea06",
   "metadata": {},
   "outputs": [],
   "source": [
    "directory = \"../00_Inputs/00_OFF/00_Simulation/\"\n",
    "\n",
    "# TODO Write widget for simulation conditions"
   ]
  },
  {
   "cell_type": "markdown",
   "id": "163eb43f",
   "metadata": {},
   "source": [
    "## Step 5: Create an OFF input file\n",
    "OFF runs on a single input file, which is what you are generating here. This file will be stored under OFF/02_Examples/03_Cases."
   ]
  },
  {
   "cell_type": "code",
   "execution_count": null,
   "id": "fdb720ff",
   "metadata": {},
   "outputs": [],
   "source": [
    "directory = \"../03_Cases/\""
   ]
  },
  {
   "cell_type": "markdown",
   "id": "fac3c8ed",
   "metadata": {},
   "source": [
    "## Step 6: Run the simulation\n",
    "You can do this from here or by calling OFF via its main function in OFF/03_Code/main.py"
   ]
  }
 ],
 "metadata": {
  "kernelspec": {
   "display_name": "Python 3.8.13 ('OFF')",
   "language": "python",
   "name": "python3"
  },
  "language_info": {
   "codemirror_mode": {
    "name": "ipython",
    "version": 3
   },
   "file_extension": ".py",
   "mimetype": "text/x-python",
   "name": "python",
   "nbconvert_exporter": "python",
   "pygments_lexer": "ipython3",
   "version": "3.8.13"
  },
  "vscode": {
   "interpreter": {
    "hash": "d51db80b65a5d8b838d667978e189404fe0104fbc03a02367e68490e659c88aa"
   }
  }
 },
 "nbformat": 4,
 "nbformat_minor": 5
}
